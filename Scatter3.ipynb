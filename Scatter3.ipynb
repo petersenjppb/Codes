{
  "nbformat": 4,
  "nbformat_minor": 0,
  "metadata": {
    "colab": {
      "name": "Scatter3.ipynb",
      "version": "0.3.2",
      "provenance": [],
      "collapsed_sections": [],
      "include_colab_link": true
    },
    "kernelspec": {
      "name": "python3",
      "display_name": "Python 3"
    }
  },
  "cells": [
    {
      "cell_type": "markdown",
      "metadata": {
        "id": "view-in-github",
        "colab_type": "text"
      },
      "source": [
        "<a href=\"https://colab.research.google.com/github/petersenjppb/Codes/blob/master/Scatter3.ipynb\" target=\"_parent\"><img src=\"https://colab.research.google.com/assets/colab-badge.svg\" alt=\"Open In Colab\"/></a>"
      ]
    },
    {
      "cell_type": "code",
      "metadata": {
        "id": "V-UpjtJMwMQ2",
        "colab_type": "code",
        "colab": {}
      },
      "source": [
        "import pandas as pd\n",
        "import matplotlib.pyplot as plt\n",
        "%matplotlib inline"
      ],
      "execution_count": 0,
      "outputs": []
    },
    {
      "cell_type": "code",
      "metadata": {
        "id": "5A_mS0mclQoD",
        "colab_type": "code",
        "outputId": "dab46403-1458-4375-a4d1-e8ea140d892f",
        "colab": {
          "base_uri": "https://localhost:8080/",
          "height": 68
        }
      },
      "source": [
        "# Fetch a single <1MB file using the raw GitHub URL.\n",
        "!curl --remote-name \\\n",
        "     -H 'Accept: application/vnd.github.v3.raw' \\\n",
        "     --location https://raw.githubusercontent.com/petersenjppb/Codes/master/ener_oparameter-wcna.csv"
      ],
      "execution_count": 468,
      "outputs": [
        {
          "output_type": "stream",
          "text": [
            "  % Total    % Received % Xferd  Average Speed   Time    Time     Time  Current\n",
            "                                 Dload  Upload   Total   Spent    Left  Speed\n",
            "\r  0     0    0     0    0     0      0      0 --:--:-- --:--:-- --:--:--     0\r100 4648k  100 4648k    0     0  18.7M      0 --:--:-- --:--:-- --:--:-- 18.7M\n"
          ],
          "name": "stdout"
        }
      ]
    },
    {
      "cell_type": "code",
      "metadata": {
        "id": "llP6432ilW4A",
        "colab_type": "code",
        "colab": {}
      },
      "source": [
        "ener=pd.read_csv('ener_oparameter-wcna.csv')\n",
        "ener.columns=ener.columns.str.replace(' ','')\n"
      ],
      "execution_count": 0,
      "outputs": []
    },
    {
      "cell_type": "code",
      "metadata": {
        "id": "hvePC8wGs8Fq",
        "colab_type": "code",
        "colab": {}
      },
      "source": [
        "df=pd.DataFrame(ener,columns=['sig666','sig655','sig555','sig544','sig533','sig532','sig522','sig521','sig444','sig433','sig422','sig421','sig411','sig400','sig322','sig311','sig300','sig211','sig200','sig100','sig000'])\n",
        "#df=pd.DataFrame(ener,columns=['sig555','sig322','sig311'])\n",
        "from sklearn import decomposition\n",
        "pca=decomposition.PCA(n_components=16)\n",
        "df=pca.fit_transform(df)\n",
        "df2=pd.DataFrame(ener,columns=['Etot'])\n",
        "etot=df2['Etot'].tolist()"
      ],
      "execution_count": 0,
      "outputs": []
    },
    {
      "cell_type": "code",
      "metadata": {
        "id": "ID4fY4k3U3eB",
        "colab_type": "code",
        "outputId": "c9c36e30-382c-460e-f2df-90c7ba41cef9",
        "colab": {
          "base_uri": "https://localhost:8080/",
          "height": 269
        }
      },
      "source": [
        "import seaborn as sns\n",
        "sns.heatmap(df, cmap=\"YlGnBu\")\n",
        "plt.show()"
      ],
      "execution_count": 471,
      "outputs": [
        {
          "output_type": "display_data",
          "data": {
            "image/png": "[encoded data removed]",
            "text/plain": [
              "<Figure size 432x288 with 2 Axes>"
            ]
          },
          "metadata": {
            "tags": []
          }
        }
      ]
    },
    {
      "cell_type": "code",
      "metadata": {
        "id": "ZBqrMYRE3OWj",
        "colab_type": "code",
        "colab": {}
      },
      "source": [
        "#pd.plotting.scatter_matrix(df,figsize=(10,10),marker='o',alpha=0.5,s=2,diagonal='hist',c=etot)\n",
        "#plt.show()"
      ],
      "execution_count": 0,
      "outputs": []
    },
    {
      "cell_type": "code",
      "metadata": {
        "id": "DrecDCb5dVVv",
        "colab_type": "code",
        "colab": {}
      },
      "source": [
        "from sklearn.neural_network import MLPRegressor\n",
        "from sklearn.model_selection import train_test_split"
      ],
      "execution_count": 0,
      "outputs": []
    },
    {
      "cell_type": "code",
      "metadata": {
        "id": "jAVYmcc5eVr_",
        "colab_type": "code",
        "colab": {}
      },
      "source": [
        "X_train,X_test,y_train,y_test = train_test_split(df,df2,test_size=0.3,random_state=0)"
      ],
      "execution_count": 0,
      "outputs": []
    },
    {
      "cell_type": "code",
      "metadata": {
        "id": "shTCMOLPl-KD",
        "colab_type": "code",
        "colab": {
          "base_uri": "https://localhost:8080/",
          "height": 190
        },
        "outputId": "2b1b596e-c5c6-4019-9451-aee1bd7b2f12"
      },
      "source": [
        "reg = MLPRegressor(solver='adam', alpha=1e-4, hidden_layer_sizes=(100), max_iter=500, tol=1e-9, random_state=0)\n",
        "#KNeighborsRegressor(n_neighbors=5)\n",
        "reg.fit(X_train,y_train)"
      ],
      "execution_count": 475,
      "outputs": [
        {
          "output_type": "stream",
          "text": [
            "/usr/local/lib/python3.6/dist-packages/sklearn/neural_network/multilayer_perceptron.py:1321: DataConversionWarning: A column-vector y was passed when a 1d array was expected. Please change the shape of y to (n_samples, ), for example using ravel().\n",
            "  y = column_or_1d(y, warn=True)\n"
          ],
          "name": "stderr"
        },
        {
          "output_type": "execute_result",
          "data": {
            "text/plain": [
              "MLPRegressor(activation='relu', alpha=0.0001, batch_size='auto', beta_1=0.9,\n",
              "             beta_2=0.999, early_stopping=False, epsilon=1e-08,\n",
              "             hidden_layer_sizes=100, learning_rate='constant',\n",
              "             learning_rate_init=0.001, max_iter=500, momentum=0.9,\n",
              "             n_iter_no_change=10, nesterovs_momentum=True, power_t=0.5,\n",
              "             random_state=0, shuffle=True, solver='adam', tol=1e-09,\n",
              "             validation_fraction=0.1, verbose=False, warm_start=False)"
            ]
          },
          "metadata": {
            "tags": []
          },
          "execution_count": 475
        }
      ]
    },
    {
      "cell_type": "code",
      "metadata": {
        "id": "CyfVunh4mWmm",
        "colab_type": "code",
        "colab": {
          "base_uri": "https://localhost:8080/",
          "height": 68
        },
        "outputId": "761770d8-edb9-4d55-a0d0-5f481671691c"
      },
      "source": [
        "print('predicciones sobre el conjunto Test:\\n{}'.format(reg.predict(X_test)))"
      ],
      "execution_count": 476,
      "outputs": [
        {
          "output_type": "stream",
          "text": [
            "predicciones sobre el conjunto Test:\n",
            "[-141.12635003 -141.62042004 -140.95641602 ... -141.57078103 -141.44235222\n",
            " -140.980296  ]\n"
          ],
          "name": "stdout"
        }
      ]
    },
    {
      "cell_type": "markdown",
      "metadata": {
        "id": "tjwBBlsRsnC5",
        "colab_type": "text"
      },
      "source": [
        ""
      ]
    },
    {
      "cell_type": "code",
      "metadata": {
        "id": "H1BjntoZmsMa",
        "colab_type": "code",
        "colab": {
          "base_uri": "https://localhost:8080/",
          "height": 1000
        },
        "outputId": "164b81ce-c0cc-4314-f7cd-264181f82f0f"
      },
      "source": [
        "print(y_test)"
      ],
      "execution_count": 477,
      "outputs": [
        {
          "output_type": "stream",
          "text": [
            "             Etot\n",
            "19134 -141.016739\n",
            "4981  -141.699280\n",
            "16643 -141.394043\n",
            "19117 -140.387466\n",
            "5306  -141.277985\n",
            "230   -140.127319\n",
            "3148  -140.398605\n",
            "11525 -141.560089\n",
            "13672 -142.351288\n",
            "1624  -141.765167\n",
            "13415 -142.351471\n",
            "18827 -140.206100\n",
            "18550 -141.093307\n",
            "5228  -140.695221\n",
            "4623  -141.410660\n",
            "3719  -141.528107\n",
            "11640 -142.351486\n",
            "2461  -140.207535\n",
            "2051  -140.586090\n",
            "15410 -141.256027\n",
            "13290 -141.374390\n",
            "6518  -140.898560\n",
            "768   -141.726624\n",
            "19197 -140.775299\n",
            "16663 -141.373917\n",
            "17114 -140.825531\n",
            "4144  -139.881180\n",
            "18896 -140.331223\n",
            "16559 -140.082352\n",
            "7025  -140.459366\n",
            "...           ...\n",
            "13238 -140.672150\n",
            "18683 -141.559860\n",
            "11839 -141.729019\n",
            "9659  -141.333878\n",
            "5412  -140.240448\n",
            "18817 -141.159515\n",
            "2470  -141.764465\n",
            "2880  -141.766724\n",
            "12730 -140.387115\n",
            "11610 -140.789062\n",
            "1391  -140.450104\n",
            "3959  -141.766159\n",
            "10015 -140.848480\n",
            "3055  -140.462463\n",
            "4898  -140.277710\n",
            "10106 -141.181396\n",
            "19990 -140.961243\n",
            "8782  -141.560226\n",
            "10031 -140.770676\n",
            "11877 -141.766876\n",
            "4029  -141.669495\n",
            "9652  -140.854568\n",
            "8296  -140.276642\n",
            "10157 -140.657028\n",
            "10657 -142.351471\n",
            "9532  -141.401337\n",
            "9764  -141.827698\n",
            "19241 -141.517746\n",
            "3452  -141.459793\n",
            "13373 -140.741806\n",
            "\n",
            "[6000 rows x 1 columns]\n"
          ],
          "name": "stdout"
        }
      ]
    },
    {
      "cell_type": "code",
      "metadata": {
        "id": "mzCMFCFnnfNf",
        "colab_type": "code",
        "colab": {
          "base_uri": "https://localhost:8080/",
          "height": 34
        },
        "outputId": "7147810b-f3d1-4365-cb72-1ea53beb3c5b"
      },
      "source": [
        "print('precisión de predicciones sobre el test: {:.2f}'.format(reg.score(X_test,y_test)))"
      ],
      "execution_count": 478,
      "outputs": [
        {
          "output_type": "stream",
          "text": [
            "precisión de predicciones sobre el test: 0.50\n"
          ],
          "name": "stdout"
        }
      ]
    },
    {
      "cell_type": "code",
      "metadata": {
        "id": "JZBoPRL5UnZg",
        "colab_type": "code",
        "colab": {}
      },
      "source": [
        ""
      ],
      "execution_count": 0,
      "outputs": []
    }
  ]
}